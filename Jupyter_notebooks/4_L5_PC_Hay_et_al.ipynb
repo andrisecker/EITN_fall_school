{
 "cells": [
  {
   "cell_type": "code",
   "execution_count": 1,
   "metadata": {},
   "outputs": [],
   "source": [
    "from __future__ import division\n",
    "import numpy as np\n",
    "from neuron import h, gui\n",
    "import matplotlib.pyplot as plt\n",
    "plt.ion();"
   ]
  },
  {
   "cell_type": "markdown",
   "metadata": {},
   "source": [
    "### Instantiate model"
   ]
  },
  {
   "cell_type": "code",
   "execution_count": 2,
   "metadata": {},
   "outputs": [],
   "source": [
    "h.load_file(\"import3d.hoc\")\n",
    "h.nrn_load_dll(\"mods/nrnmech.dll\")  # this needs to be added on Windows\n",
    "# for some weird reason NEURON doesn't care about the OS\n",
    "# and Windows uses the forward slash: '/' as well...\n",
    "h.load_file(\"models/L5PCbiophys3.hoc\")\n",
    "h.load_file(\"models/L5PCtemplate.hoc\")\n",
    "morph_fname = \"morphologies/cell1.asc\"\n",
    "L5PC = h.L5PCtemplate(morph_fname)"
   ]
  },
  {
   "cell_type": "markdown",
   "metadata": {},
   "source": [
    "### Add input, recorders, run sim, plot results"
   ]
  },
  {
   "cell_type": "code",
   "execution_count": null,
   "metadata": {},
   "outputs": [],
   "source": [
    "# input\n",
    "stim = h.IClamp(L5PC.soma[0](0.5))\n",
    "stim.dur = 1000\n",
    "stim.delay = 400\n",
    "stim.amp = 0.793\n",
    "# recording\n",
    "t = h.Vector()\n",
    "t.record(h._ref_t)\n",
    "soma_v = h.Vector()\n",
    "soma_v.record(L5PC.soma[0](0.5)._ref_v)\n",
    "nexus_v = h.Vector()\n",
    "nexus_v.record(L5PC.apic[36](0.9)._ref_v)\n",
    "stim_current = h.Vector()\n",
    "stim_current.record(stim._ref_i)\n",
    "# run\n",
    "h.v_init = -80\n",
    "h.tstop = 1500\n",
    "h.celsius = 37\n",
    "h.run();"
   ]
  },
  {
   "cell_type": "code",
   "execution_count": null,
   "metadata": {},
   "outputs": [],
   "source": [
    "# plot the injected current and the voltage responses (in soma and apical trunk)\n",
    "f, (ax0, ax1) = plt.subplots(2, 1, figsize=(5, 4), gridspec_kw={'height_ratios': [3, 1]})\n",
    "ax0.plot(t, soma_v, 'k', label='soma')\n",
    "ax0.plot(t, nexus_v, 'orange', label='apic[36]')\n",
    "ax0.legend(frameon=False)\n",
    "ax1.plot(t, stim_current)\n",
    "\n",
    "ax0.set_ylabel('Voltage (mV)')\n",
    "ax0.spines['right'].set_visible(False)\n",
    "ax0.spines['top'].set_visible(False)\n",
    "ax0.spines['bottom'].set_visible(False)\n",
    "ax0.get_xaxis().set_visible(False)\n",
    "\n",
    "ax1.set_ylabel('I (nA)')\n",
    "ax1.set_xlabel('t (ms)')\n",
    "ax1.spines['right'].set_visible(False)\n",
    "ax1.spines['top'].set_visible(False)\n",
    "plt.tight_layout()"
   ]
  },
  {
   "cell_type": "code",
   "execution_count": null,
   "metadata": {},
   "outputs": [],
   "source": []
  }
 ],
 "metadata": {
  "kernelspec": {
   "display_name": "Python 3 (ipykernel)",
   "language": "python",
   "name": "python3"
  },
  "language_info": {
   "codemirror_mode": {
    "name": "ipython",
    "version": 3
   },
   "file_extension": ".py",
   "mimetype": "text/x-python",
   "name": "python",
   "nbconvert_exporter": "python",
   "pygments_lexer": "ipython3",
   "version": "3.8.9"
  }
 },
 "nbformat": 4,
 "nbformat_minor": 2
}
