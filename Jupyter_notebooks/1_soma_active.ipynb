{
 "cells": [
  {
   "cell_type": "code",
   "execution_count": 1,
   "metadata": {},
   "outputs": [],
   "source": [
    "from __future__ import division\n",
    "import numpy as np\n",
    "from neuron import h, gui\n",
    "import matplotlib.pyplot as plt\n",
    "plt.ion();"
   ]
  },
  {
   "cell_type": "markdown",
   "metadata": {},
   "source": [
    "### Create passive model"
   ]
  },
  {
   "cell_type": "code",
   "execution_count": 2,
   "metadata": {},
   "outputs": [],
   "source": [
    "# create model\n",
    "soma = h.Section(name=\"soma\")\n",
    "soma.L    = 10 # the length of the soma\n",
    "soma.diam = 10 # the diameter of the soma\n",
    "soma.Ra   = 100 # tha axial resistance\n",
    "soma.insert('pas') # add passive properties \n",
    "soma.g_pas = 1/10000 # set the specific membrane to 10000 ohm*cm^2"
   ]
  },
  {
   "cell_type": "markdown",
   "metadata": {},
   "source": [
    "### Add active conductances\n",
    "The channels [mod files] are from Mainen and Sejnowski 1996"
   ]
  },
  {
   "cell_type": "code",
   "execution_count": 3,
   "metadata": {},
   "outputs": [],
   "source": [
    "h.nrn_load_dll(\"mods/nrnmech.dll\")  # this needs to be added on Windows\n",
    "soma.insert('kv') # add potassium channel | a mod file\n",
    "soma.gbar_kv = 2000 # set the potassium conductance\n",
    "soma.insert('na') # add sodium channel | a mod file\n",
    "soma.gbar_na = 8000 # set the sodium conductance\n",
    "h.celsius = 30"
   ]
  },
  {
   "cell_type": "markdown",
   "metadata": {},
   "source": [
    "### Add input, recorders, run sim, plot results"
   ]
  },
  {
   "cell_type": "code",
   "execution_count": 4,
   "metadata": {},
   "outputs": [],
   "source": [
    "# Add current clamp\n",
    "stim = h.IClamp(soma(0.5))\n",
    "stim.delay = 250 # start of the current injection (ms)\n",
    "stim.dur   = 1000 # duration (ms)\n",
    "stim.amp   = 0.007446 # amplitude (nA)\n",
    "# Record voltage of soma and injected current and the time\n",
    "soma_v = h.Vector()\n",
    "soma_v.record(soma(0.5)._ref_v)\n",
    "stim_current = h.Vector()\n",
    "stim_current.record(stim._ref_i)\n",
    "t = h.Vector()\n",
    "t.record(h._ref_t)\n",
    "# Run sim\n",
    "h.tstop = 1500 # set the simulation time\n",
    "h.v_init = -70\n",
    "h.run();"
   ]
  },
  {
   "cell_type": "code",
   "execution_count": 5,
   "metadata": {},
   "outputs": [
    {
     "data": {
      "image/png": "[encoded data removed]",
      "text/plain": [
       "<Figure size 288x216 with 2 Axes>"
      ]
     },
     "metadata": {
      "needs_background": "light"
     },
     "output_type": "display_data"
    }
   ],
   "source": [
    "# plot the injected current and the voltage response\n",
    "f, (ax0, ax1) = plt.subplots(2, 1, figsize=(4, 3), gridspec_kw={'height_ratios':[3, 1]})\n",
    "ax0.plot(t,soma_v, 'k')\n",
    "ax1.plot(t,stim_current, 'gray')\n",
    "\n",
    "ax0.set_ylabel('Voltage (mV)')\n",
    "ax0.spines['right'].set_visible(False)\n",
    "ax0.spines['top'].set_visible(False)\n",
    "ax0.spines['bottom'].set_visible(False)\n",
    "ax0.get_xaxis().set_visible(False)\n",
    "\n",
    "ax1.set_ylabel('I (nA)')\n",
    "ax1.set_xlabel('t (ms)')\n",
    "ax1.spines['right'].set_visible(False)\n",
    "ax1.spines['top'].set_visible(False)\n",
    "plt.tight_layout()"
   ]
  },
  {
   "cell_type": "code",
   "execution_count": null,
   "metadata": {},
   "outputs": [],
   "source": []
  }
 ],
 "metadata": {
  "kernelspec": {
   "display_name": "Python 3 (ipykernel)",
   "language": "python",
   "name": "python3"
  },
  "language_info": {
   "codemirror_mode": {
    "name": "ipython",
    "version": 3
   },
   "file_extension": ".py",
   "mimetype": "text/x-python",
   "name": "python",
   "nbconvert_exporter": "python",
   "pygments_lexer": "ipython3",
   "version": "3.8.9"
  }
 },
 "nbformat": 4,
 "nbformat_minor": 2
}
