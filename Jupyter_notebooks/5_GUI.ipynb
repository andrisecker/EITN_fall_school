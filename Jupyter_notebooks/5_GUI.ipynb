{
 "cells": [
  {
   "cell_type": "code",
   "execution_count": 1,
   "metadata": {},
   "outputs": [],
   "source": [
    "from neuron import h, gui\n",
    "import matplotlib.pyplot as plt"
   ]
  },
  {
   "cell_type": "code",
   "execution_count": 2,
   "metadata": {},
   "outputs": [],
   "source": [
    "# we'll use a hoc template in order to load the morphology\n",
    "h.load_file(\"import3d.hoc\")\n",
    "h.load_file(\"nrngui.hoc\")\n",
    "h(\"objref cell, tobj\")\n",
    "\n",
    "model_dir, model_file = \"fitting_example\", \"template_model\"\n",
    "h.load_file(\"%s/%s.hoc\" % (model_dir, model_file))\n",
    "h.execute(\"cell = new \" + model_file + \"()\")\n",
    "\n",
    "nl = h.Import3d_SWC_read()\n",
    "nl.quiet = 1\n",
    "morph_file = \"%s/morph.swc\" % model_dir\n",
    "nl.input(morph_file)\n",
    "imprt = h.Import3d_GUI(nl, 0)\n",
    "imprt.instantiate(h.cell)\n",
    "cell = h.cell\n",
    "\n",
    "#inserting passive mechanism\n",
    "for sec in cell.all:\n",
    "    sec.insert(\"pas\")\n",
    "    sec.g_pas = 1.0 / 20000.0\n",
    "    sec.Ra = 100\n",
    "    sec.e_pas = -70"
   ]
  },
  {
   "cell_type": "markdown",
   "metadata": {},
   "source": [
    "### Now in the GUI check Graph/Shape plot!"
   ]
  },
  {
   "cell_type": "code",
   "execution_count": 3,
   "metadata": {},
   "outputs": [
    {
     "name": "stdout",
     "output_type": "stream",
     "text": [
      "number of apical terminals: 19\n",
      "number of basal terminals: 19\n"
     ]
    }
   ],
   "source": [
    "# lets check the diameter change as a function of distance!\n",
    "\n",
    "# geting all dendrite terminals\n",
    "terminals_basal = set()\n",
    "terminals_apical = set()\n",
    "\n",
    "for sec in cell.dend:\n",
    "    sref = h.SectionRef(sec=sec)\n",
    "    if sref.nchild() == 0:\n",
    "         terminals_basal.add(sec)\n",
    "\n",
    "for sec in cell.apic:\n",
    "    sref = h.SectionRef(sec=sec)\n",
    "    if sref.nchild() == 0:\n",
    "         terminals_apical.add(sec)\n",
    "            \n",
    "print(\"number of apical terminals: %i\" % len(terminals_apical))\n",
    "print(\"number of basal terminals: %i\" % len(terminals_basal))"
   ]
  },
  {
   "cell_type": "code",
   "execution_count": 4,
   "metadata": {},
   "outputs": [],
   "source": [
    "def plot_section_diam(section, start_diam, start_distance, c):\n",
    "    \"\"\"plot distance vs. diam for all sections\"\"\"\n",
    "    start_distance = h.distance(section(0))\n",
    "    start_diam = section(0).diam\n",
    "    for seg in section:\n",
    "        plt.plot([start_distance, h.distance(section(seg.x))], [start_diam, seg.diam], color=c)"
   ]
  },
  {
   "cell_type": "code",
   "execution_count": 5,
   "metadata": {},
   "outputs": [
    {
     "data": {
      "image/png": "[encoded data removed]",
      "text/plain": [
       "<Figure size 432x288 with 1 Axes>"
      ]
     },
     "metadata": {
      "needs_background": "light"
     },
     "output_type": "display_data"
    }
   ],
   "source": [
    "h.distance(0,0.5, cell.soma[0])  # init origin for distance calculation\n",
    "fig = plt.figure()  # init figure to draw on\n",
    "plt.xlabel(\"Distance (um)\")\n",
    "plt.ylabel(\"Diameter (um)\")\n",
    "\n",
    "for section in terminals_apical:\n",
    "    cur_sec = section\n",
    "    while cur_sec != cell.soma[0]:\n",
    "        plot_section_diam(cur_sec, start_diam=0, start_distance=0 ,c='b')\n",
    "        end_diam = cur_sec(0).diam\n",
    "        end_distance = h.distance(cur_sec(0))\n",
    "        cur_sec = h.SectionRef(sec = cur_sec).parent\n",
    "        plt.plot([end_distance, h.distance(cur_sec(1))], [end_diam, cur_sec(1).diam], color='b')\n",
    "\n",
    "for section in terminals_basal:\n",
    "    cur_sec = section\n",
    "    while cur_sec != cell.soma[0]:\n",
    "        plot_section_diam(cur_sec, start_diam=0, start_distance=0 ,c='r')\n",
    "        end_diam = cur_sec(0).diam\n",
    "        end_distance = h.distance(cur_sec(0))\n",
    "        cur_sec = h.SectionRef(sec = cur_sec).parent\n",
    "        plt.plot([end_distance, h.distance(cur_sec(1))], [end_diam, cur_sec(1).diam], color='r')"
   ]
  },
  {
   "cell_type": "code",
   "execution_count": 6,
   "metadata": {},
   "outputs": [],
   "source": [
    "# lets add an IClamp to\n",
    "clamp = h.IClamp(cell.soma[0](0.5))\n",
    "clamp.amp = 0.5\n",
    "clamp.dur = 1000\n",
    "clamp.delay = 200\n",
    "h.v_init = -70\n",
    "h.tstop = 1500"
   ]
  },
  {
   "cell_type": "markdown",
   "metadata": {},
   "source": [
    "### Now in the GUI open Graph/Voltage axis!"
   ]
  },
  {
   "cell_type": "code",
   "execution_count": 7,
   "metadata": {},
   "outputs": [],
   "source": [
    "# run sim and check graph\n",
    "h.run();"
   ]
  },
  {
   "cell_type": "code",
   "execution_count": null,
   "metadata": {},
   "outputs": [],
   "source": []
  }
 ],
 "metadata": {
  "kernelspec": {
   "display_name": "Python 3",
   "language": "python",
   "name": "python3"
  },
  "language_info": {
   "codemirror_mode": {
    "name": "ipython",
    "version": 3
   },
   "file_extension": ".py",
   "mimetype": "text/x-python",
   "name": "python",
   "nbconvert_exporter": "python",
   "pygments_lexer": "ipython3",
   "version": "3.7.0"
  }
 },
 "nbformat": 4,
 "nbformat_minor": 4
}
