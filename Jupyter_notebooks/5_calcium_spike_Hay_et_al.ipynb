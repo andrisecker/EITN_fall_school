{
 "cells": [
  {
   "cell_type": "code",
   "execution_count": null,
   "metadata": {},
   "outputs": [],
   "source": [
    "from __future__ import division\n",
    "import numpy as np\n",
    "from neuron import h, gui\n",
    "import matplotlib.pyplot as plt\n",
    "plt.ion();"
   ]
  },
  {
   "cell_type": "markdown",
   "metadata": {},
   "source": [
    "### Instantiate model"
   ]
  },
  {
   "cell_type": "code",
   "execution_count": null,
   "metadata": {},
   "outputs": [],
   "source": [
    "h.load_file(\"import3d.hoc\")\n",
    "h.nrn_load_dll(\"mods/nrnmech.dll\")  # this needs to be added on Windows\n",
    "# for some weird reason NEURON doesn't care about the OS\n",
    "# and Windows uses the forward slash: '/' as well...\n",
    "h.load_file(\"models/L5PCbiophys3.hoc\")\n",
    "h.load_file(\"models/L5PCtemplate.hoc\")\n",
    "morph_fname = \"morphologies/cell1.asc\"\n",
    "L5PC = h.L5PCtemplate(morph_fname)"
   ]
  },
  {
   "cell_type": "markdown",
   "metadata": {},
   "source": [
    "### Add input, recorders, and plot function"
   ]
  },
  {
   "cell_type": "code",
   "execution_count": null,
   "metadata": {},
   "outputs": [],
   "source": [
    "# input to the soma\n",
    "stim = h.IClamp(0.5, sec=L5PC.soma[0])\n",
    "stim.dur = 5\n",
    "stim.delay = 150\n",
    "stim_current = h.Vector()\n",
    "stim_current.record(stim._ref_i);\n",
    "# input to the apical point\n",
    "syn = h.epsp(L5PC.apic[36](0.9))\n",
    "syn.tau0 = 0.5\n",
    "syn.tau1 = 5\n",
    "syn.onset = stim.delay + 5\n",
    "syn_current = h.Vector()\n",
    "syn_current.record(syn._ref_i);\n",
    "# recording\n",
    "t = h.Vector()\n",
    "t.record(h._ref_t)\n",
    "soma_v = h.Vector()\n",
    "soma_v.record(L5PC.soma[0](0.5)._ref_v)\n",
    "nexus_v = h.Vector()\n",
    "nexus_v.record(L5PC.apic[36](0.9)._ref_v)\n",
    "stim_current = h.Vector()\n",
    "stim_current.record(stim._ref_i);"
   ]
  },
  {
   "cell_type": "code",
   "execution_count": null,
   "metadata": {},
   "outputs": [],
   "source": [
    "def plot_result(t, soma_v, nexus_v, stim_current, syn_current, show_from=4400):\n",
    "    \"\"\"Plot input currents, soma and dendrite voltages\"\"\"\n",
    "    t = np.array(t)[show_from:]\n",
    "    soma_v = np.array(soma_v)[show_from:]\n",
    "    nexus_v = np.array(nexus_v)[show_from:]\n",
    "    stim_current = np.array(stim_current)[show_from:]\n",
    "    syn_current = np.array(syn_current)[show_from:]\n",
    "    \n",
    "    f, (ax0, ax1, ax2) = plt.subplots(3, 1, figsize=(6.5,3), gridspec_kw={'height_ratios':[4, 1,1]})\n",
    "    ax0.plot(t, soma_v, label = 'soma')\n",
    "    ax0.plot(t, nexus_v, label = 'apic[36]')\n",
    "    ax0.set_ylabel('Voltage (mV)')\n",
    "    ax0.set_ylim(-80, 40)\n",
    "    ax0.spines['right'].set_visible(False)\n",
    "    ax0.spines['top'].set_visible(False)\n",
    "    ax0.spines['bottom'].set_visible(False)\n",
    "    ax0.get_xaxis().set_visible(False)\n",
    "    ax0.legend(frameon=False)\n",
    "\n",
    "    ax1.plot(t, -np.array(syn_current), color='red', label='EPSP-like current')\n",
    "    ax1.set_ylim(-0.02, 2)\n",
    "    ax1.spines['right'].set_visible(False)\n",
    "    ax1.spines['top'].set_visible(False)\n",
    "    ax1.spines['bottom'].set_visible(False)\n",
    "    ax1.get_xaxis().set_visible(False)\n",
    "    ax1.legend(frameon=False)\n",
    "\n",
    "    ax2.plot(t, stim_current, color='black', label='step current')\n",
    "    ax2.set_ylabel('Current (nA)', ha='left', labelpad=15)\n",
    "    ax2.set_xlabel('Time (ms)')\n",
    "    ax2.set_ylim(-0.02, 2)\n",
    "    ax2.spines['right'].set_visible(False)\n",
    "    ax2.spines['top'].set_visible(False)\n",
    "    ax2.legend(frameon=False)"
   ]
  },
  {
   "cell_type": "markdown",
   "metadata": {},
   "source": [
    "### Simulate 3 different scenarios:\n",
    "- stimuate only apical\n",
    "- only soma -> somatic spike\n",
    "- both -> Ca++ spike in the dendrite and somatic burst"
   ]
  },
  {
   "cell_type": "code",
   "execution_count": null,
   "metadata": {},
   "outputs": [],
   "source": [
    "# general settings\n",
    "h.v_init = -80\n",
    "h.tstop = 250\n",
    "h.celsius = 37\n",
    "\n",
    "# simulations\n",
    "syn.imax = 0.5 \n",
    "stim.amp = 0\n",
    "h.run()\n",
    "plot_result(t, soma_v, nexus_v, stim_current, syn_current)\n",
    "\n",
    "syn.imax = 0\n",
    "stim.amp = 1.9\n",
    "h.run()\n",
    "plot_result(t, soma_v, nexus_v, stim_current, syn_current)\n",
    "\n",
    "syn.imax = 0.5\n",
    "stim.amp = 1.9\n",
    "h.run()\n",
    "plot_result(t, soma_v, nexus_v, stim_current, syn_current)"
   ]
  },
  {
   "cell_type": "code",
   "execution_count": null,
   "metadata": {},
   "outputs": [],
   "source": []
  }
 ],
 "metadata": {
  "kernelspec": {
   "display_name": "Python 3 (ipykernel)",
   "language": "python",
   "name": "python3"
  },
  "language_info": {
   "codemirror_mode": {
    "name": "ipython",
    "version": 3
   },
   "file_extension": ".py",
   "mimetype": "text/x-python",
   "name": "python",
   "nbconvert_exporter": "python",
   "pygments_lexer": "ipython3",
   "version": "3.8.9"
  }
 },
 "nbformat": 4,
 "nbformat_minor": 2
}
